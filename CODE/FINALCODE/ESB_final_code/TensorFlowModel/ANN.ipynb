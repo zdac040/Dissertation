{
  "nbformat": 4,
  "nbformat_minor": 0,
  "metadata": {
    "colab": {
      "name": "ANN.ipynb",
      "provenance": [],
      "collapsed_sections": [],
      "include_colab_link": true
    },
    "kernelspec": {
      "name": "python3",
      "display_name": "Python 3"
    }
  },
  "cells": [
    {
      "cell_type": "markdown",
      "metadata": {
        "id": "view-in-github",
        "colab_type": "text"
      },
      "source": [
        "<a href=\"https://colab.research.google.com/github/zdac040/EMGDissertation/blob/master/ANN.ipynb\" target=\"_parent\"><img src=\"https://colab.research.google.com/assets/colab-badge.svg\" alt=\"Open In Colab\"/></a>"
      ]
    },
    {
      "cell_type": "code",
      "metadata": {
        "id": "tJXElDdEdbe8",
        "colab_type": "code",
        "colab": {}
      },
      "source": [
        "# https://www.tensorflow.org/tutorials/quickstart/beginner\n",
        "\n",
        "import tensorflow as tf\n",
        "\n",
        "from tensorflow import keras\n",
        "from tensorflow.keras import layers\n",
        "\n",
        "import pandas as pd\n",
        "import numpy as np\n",
        "\n",
        "from google.colab import files"
      ],
      "execution_count": null,
      "outputs": []
    },
    {
      "cell_type": "code",
      "metadata": {
        "id": "MhcJsWpPSY__",
        "colab_type": "code",
        "colab": {
          "base_uri": "https://localhost:8080/",
          "height": 34
        },
        "outputId": "c3b24346-c99f-4ddf-b1c2-31431004e651"
      },
      "source": [
        "print(tf.__version__)"
      ],
      "execution_count": null,
      "outputs": [
        {
          "output_type": "stream",
          "text": [
            "2.3.0\n"
          ],
          "name": "stdout"
        }
      ]
    },
    {
      "cell_type": "code",
      "metadata": {
        "id": "vk6Ck1b2uBCi",
        "colab_type": "code",
        "colab": {}
      },
      "source": [
        "f = files.upload()\n",
        "\n",
        "colNS = ['RAW', 'EMG', 'BINARY'] \n",
        "dataNS = pd.read_excel(\"NULLSIGNAL.xlsx\", names=colNS) \n",
        "\n",
        "colMF = ['RAW', 'EMG', 'BINARY'] \n",
        "dataMF = pd.read_excel(\"MIDDLEFINGER.xlsx\", names=colMF) \n",
        "\n",
        "colP = ['RAW', 'EMG', 'BINARY'] \n",
        "dataP = pd.read_excel(\"PUNCH.xlsx\", names=colP) \n",
        "\n",
        "colC = ['RAW', 'EMG', 'BINARY'] \n",
        "dataC = pd.read_excel(\"CONTRACTION.xlsx\", names=colC) "
      ],
      "execution_count": null,
      "outputs": []
    },
    {
      "cell_type": "code",
      "metadata": {
        "id": "e55MrMAWGPVT",
        "colab_type": "code",
        "colab": {
          "base_uri": "https://localhost:8080/",
          "height": 34
        },
        "outputId": "37465723-cedc-4d3a-c584-ae582d6d3500"
      },
      "source": [
        "num_rows = dataNS.shape[0]\n",
        "\n",
        "print(num_rows)"
      ],
      "execution_count": null,
      "outputs": [
        {
          "output_type": "stream",
          "text": [
            "239\n"
          ],
          "name": "stdout"
        }
      ]
    },
    {
      "cell_type": "code",
      "metadata": {
        "id": "xX-xdgC1Gt35",
        "colab_type": "code",
        "colab": {
          "base_uri": "https://localhost:8080/",
          "height": 187
        },
        "outputId": "befa4cf3-efe3-4001-a952-c2d36f388e53"
      },
      "source": [
        "# windows size of 4 rows to transform the table\n",
        "win_size = 4\n",
        "trans_table_ns = np.zeros((num_rows-win_size+1,2*win_size+1)) #it creates object of type array\n",
        "\n",
        "for i in range(num_rows-win_size+1):\n",
        "  cur_slice = dataNS.iloc[i:i+win_size,:]\n",
        "  raw_slice = np.array(cur_slice['RAW'])\n",
        "  emg_slice = np.array(cur_slice['EMG'])\n",
        "  classification = np.max(cur_slice['BINARY'])\n",
        "  trans_table_ns[i,:] = np.append(np.concatenate((raw_slice,emg_slice)),classification)\n",
        "\n",
        "print(raw_slice)\n",
        "print(emg_slice)\n",
        "print(classification)\n",
        "print(trans_table_ns)"
      ],
      "execution_count": null,
      "outputs": [
        {
          "output_type": "stream",
          "text": [
            "[770 770 770 770]\n",
            "[35 35 35 35]\n",
            "0\n",
            "[[769. 771. 770. ...  48.  35.   0.]\n",
            " [771. 770. 768. ...  35.  41.   0.]\n",
            " [770. 768. 770. ...  41.  47.   0.]\n",
            " ...\n",
            " [770. 770. 770. ...  35.  35.   0.]\n",
            " [770. 770. 770. ...  35.  35.   0.]\n",
            " [770. 770. 770. ...  35.  35.   0.]]\n"
          ],
          "name": "stdout"
        }
      ]
    },
    {
      "cell_type": "code",
      "metadata": {
        "id": "lExow_NhGhB5",
        "colab_type": "code",
        "colab": {
          "base_uri": "https://localhost:8080/",
          "height": 34
        },
        "outputId": "6ebd3f9d-49ff-419f-95d0-b78fcb0494b8"
      },
      "source": [
        "num_rows = dataMF.shape[0]\n",
        "\n",
        "print(num_rows)"
      ],
      "execution_count": null,
      "outputs": [
        {
          "output_type": "stream",
          "text": [
            "239\n"
          ],
          "name": "stdout"
        }
      ]
    },
    {
      "cell_type": "code",
      "metadata": {
        "id": "r80CKKNvG867",
        "colab_type": "code",
        "colab": {
          "base_uri": "https://localhost:8080/",
          "height": 136
        },
        "outputId": "b4b20db9-8815-4ab4-e866-cc32d74732a1"
      },
      "source": [
        "win_size = 4\n",
        "trans_table_mf = np.zeros((num_rows-win_size+1,2*win_size+1))\n",
        "\n",
        "for i in range(num_rows-win_size+1):\n",
        "  cur_slice = dataMF.iloc[i:i+win_size,:]\n",
        "  raw_slice = np.array(cur_slice['RAW'])\n",
        "  emg_slice = np.array(cur_slice['EMG'])\n",
        "  classification = np.max(cur_slice['BINARY'])\n",
        "  trans_table_mf[i,:] = np.append(np.concatenate((raw_slice,emg_slice)),classification)\n",
        "\n",
        "print(trans_table_mf)"
      ],
      "execution_count": null,
      "outputs": [
        {
          "output_type": "stream",
          "text": [
            "[[772. 774. 776. ... 580.  96.   1.]\n",
            " [774. 776. 769. ...  96. 124.   1.]\n",
            " [776. 769. 767. ... 124. 224.   1.]\n",
            " ...\n",
            " [641. 641. 641. ...  86.  86.   0.]\n",
            " [641. 641. 641. ...  86.  86.   0.]\n",
            " [641. 641. 641. ...  86.  86.   0.]]\n"
          ],
          "name": "stdout"
        }
      ]
    },
    {
      "cell_type": "code",
      "metadata": {
        "id": "5Ve-H_bEGkoM",
        "colab_type": "code",
        "colab": {
          "base_uri": "https://localhost:8080/",
          "height": 34
        },
        "outputId": "0f2423c4-2b29-4cb9-fdea-54c64a39e822"
      },
      "source": [
        "num_rows = dataP.shape[0]\n",
        "\n",
        "print(num_rows)"
      ],
      "execution_count": null,
      "outputs": [
        {
          "output_type": "stream",
          "text": [
            "239\n"
          ],
          "name": "stdout"
        }
      ]
    },
    {
      "cell_type": "code",
      "metadata": {
        "id": "kt_wvNDDHI-i",
        "colab_type": "code",
        "colab": {
          "base_uri": "https://localhost:8080/",
          "height": 136
        },
        "outputId": "2fba2585-265d-4a0c-8b3f-ad7112af698a"
      },
      "source": [
        "win_size = 4\n",
        "trans_table_p = np.zeros((num_rows-win_size+1,2*win_size+1))\n",
        "\n",
        "for i in range(num_rows-win_size+1):\n",
        "  cur_slice = dataP.iloc[i:i+win_size,:]\n",
        "  raw_slice = np.array(cur_slice['RAW'])\n",
        "  emg_slice = np.array(cur_slice['EMG'])\n",
        "  classification = np.max(cur_slice['BINARY'])\n",
        "  trans_table_p[i,:] = np.append(np.concatenate((raw_slice,emg_slice)),classification)\n",
        "\n",
        "print(trans_table_p)"
      ],
      "execution_count": null,
      "outputs": [
        {
          "output_type": "stream",
          "text": [
            "[[ 770.  772.  773. ...  154. 1023.    2.]\n",
            " [ 772.  773.  732. ... 1023.  491.    2.]\n",
            " [ 773.  732.  747. ...  491. 1023.    2.]\n",
            " ...\n",
            " [ 768.  768.  768. ...  355.  177.    2.]\n",
            " [ 768.  768.  768. ...  177.  177.    2.]\n",
            " [ 768.  768.  768. ...  177.  177.    2.]]\n"
          ],
          "name": "stdout"
        }
      ]
    },
    {
      "cell_type": "code",
      "metadata": {
        "id": "VMb2hunsGlSq",
        "colab_type": "code",
        "colab": {
          "base_uri": "https://localhost:8080/",
          "height": 34
        },
        "outputId": "4537c48c-6b66-4f37-f355-f52eceb90709"
      },
      "source": [
        "num_rows = dataC.shape[0]\n",
        "\n",
        "print(num_rows)"
      ],
      "execution_count": null,
      "outputs": [
        {
          "output_type": "stream",
          "text": [
            "239\n"
          ],
          "name": "stdout"
        }
      ]
    },
    {
      "cell_type": "code",
      "metadata": {
        "id": "Pcfa3IhKHJxq",
        "colab_type": "code",
        "colab": {
          "base_uri": "https://localhost:8080/",
          "height": 136
        },
        "outputId": "f74a5651-d6e5-474f-ff17-52452711620e"
      },
      "source": [
        "win_size = 4\n",
        "trans_table_c = np.zeros((num_rows-win_size+1,2*win_size+1))\n",
        "\n",
        "for i in range(num_rows-win_size+1):\n",
        "  cur_slice = dataC.iloc[i:i+win_size,:]\n",
        "  raw_slice = np.array(cur_slice['RAW'])\n",
        "  emg_slice = np.array(cur_slice['EMG'])\n",
        "  classification = np.max(cur_slice['BINARY'])\n",
        "  trans_table_c[i,:] = np.append(np.concatenate((raw_slice,emg_slice)),classification)\n",
        "\n",
        "print(trans_table_c)"
      ],
      "execution_count": null,
      "outputs": [
        {
          "output_type": "stream",
          "text": [
            "[[ 767.  767.  769. ...   41.   40.    0.]\n",
            " [ 767.  769.  769. ...   40.  141.    0.]\n",
            " [ 769.  769.  718. ...  141.    3.    0.]\n",
            " ...\n",
            " [ 763.  763.  763. ...  235. 1023.    3.]\n",
            " [ 763.  763.  763. ... 1023. 1023.    3.]\n",
            " [ 763.  763.  763. ... 1023. 1023.    3.]]\n"
          ],
          "name": "stdout"
        }
      ]
    },
    {
      "cell_type": "code",
      "metadata": {
        "id": "s3FTr-mcIhPA",
        "colab_type": "code",
        "colab": {
          "base_uri": "https://localhost:8080/",
          "height": 408
        },
        "outputId": "e6b936fb-8535-40a6-a99e-51cb45003bb1"
      },
      "source": [
        "# xs (the input to the classifier) are the first n-1 columns, the ys are the last one\n",
        "xns = trans_table_ns[:,:-1]\n",
        "yns = trans_table_ns[:,-1]\n",
        "\n",
        "# normalization of the the inputs so that they are centered at 0\n",
        "\n",
        "xns = (xns-512)/1024\n",
        "\n",
        "print(xns)\n",
        "print(yns)"
      ],
      "execution_count": null,
      "outputs": [
        {
          "output_type": "stream",
          "text": [
            "[[ 0.25097656  0.25292969  0.25195312 ... -0.45507812 -0.453125\n",
            "  -0.46582031]\n",
            " [ 0.25292969  0.25195312  0.25       ... -0.453125   -0.46582031\n",
            "  -0.45996094]\n",
            " [ 0.25195312  0.25        0.25195312 ... -0.46582031 -0.45996094\n",
            "  -0.45410156]\n",
            " ...\n",
            " [ 0.25195312  0.25195312  0.25195312 ... -0.46582031 -0.46582031\n",
            "  -0.46582031]\n",
            " [ 0.25195312  0.25195312  0.25195312 ... -0.46582031 -0.46582031\n",
            "  -0.46582031]\n",
            " [ 0.25195312  0.25195312  0.25195312 ... -0.46582031 -0.46582031\n",
            "  -0.46582031]]\n",
            "[0. 0. 0. 0. 0. 0. 0. 0. 0. 0. 0. 0. 0. 0. 0. 0. 0. 0. 0. 0. 0. 0. 0. 0.\n",
            " 0. 0. 0. 0. 0. 0. 0. 0. 0. 0. 0. 0. 0. 0. 0. 0. 0. 0. 0. 0. 0. 0. 0. 0.\n",
            " 0. 0. 0. 0. 0. 0. 0. 0. 0. 0. 0. 0. 0. 0. 0. 0. 0. 0. 0. 0. 0. 0. 0. 0.\n",
            " 0. 0. 0. 0. 0. 0. 0. 0. 0. 0. 0. 0. 0. 0. 0. 0. 0. 0. 0. 0. 0. 0. 0. 0.\n",
            " 0. 0. 0. 0. 0. 0. 0. 0. 0. 0. 0. 0. 0. 0. 0. 0. 0. 0. 0. 0. 0. 0. 0. 0.\n",
            " 0. 0. 0. 0. 0. 0. 0. 0. 0. 0. 0. 0. 0. 0. 0. 0. 0. 0. 0. 0. 0. 0. 0. 0.\n",
            " 0. 0. 0. 0. 0. 0. 0. 0. 0. 0. 0. 0. 0. 0. 0. 0. 0. 0. 0. 0. 0. 0. 0. 0.\n",
            " 0. 0. 0. 0. 0. 0. 0. 0. 0. 0. 0. 0. 0. 0. 0. 0. 0. 0. 0. 0. 0. 0. 0. 0.\n",
            " 0. 0. 0. 0. 0. 0. 0. 0. 0. 0. 0. 0. 0. 0. 0. 0. 0. 0. 0. 0. 0. 0. 0. 0.\n",
            " 0. 0. 0. 0. 0. 0. 0. 0. 0. 0. 0. 0. 0. 0. 0. 0. 0. 0. 0. 0.]\n"
          ],
          "name": "stdout"
        }
      ]
    },
    {
      "cell_type": "code",
      "metadata": {
        "id": "J7nAhT1dKbKl",
        "colab_type": "code",
        "colab": {
          "base_uri": "https://localhost:8080/",
          "height": 408
        },
        "outputId": "31bc195c-6852-4436-87af-986c51151667"
      },
      "source": [
        "# xs (the input to the classifier) are the first n-1 columns, the ys are the last one\n",
        "xmf = trans_table_mf[:,:-1]\n",
        "ymf = trans_table_mf[:,-1]\n",
        "\n",
        "\n",
        "# normalization of the the inputs so that they are centered at 0\n",
        "\n",
        "xmf = (xmf-512)/1024\n",
        "\n",
        "print(xmf)\n",
        "print(ymf)"
      ],
      "execution_count": null,
      "outputs": [
        {
          "output_type": "stream",
          "text": [
            "[[ 0.25390625  0.25585938  0.2578125  ... -0.39648438  0.06640625\n",
            "  -0.40625   ]\n",
            " [ 0.25585938  0.2578125   0.25097656 ...  0.06640625 -0.40625\n",
            "  -0.37890625]\n",
            " [ 0.2578125   0.25097656  0.24902344 ... -0.40625    -0.37890625\n",
            "  -0.28125   ]\n",
            " ...\n",
            " [ 0.12597656  0.12597656  0.12597656 ... -0.41601562 -0.41601562\n",
            "  -0.41601562]\n",
            " [ 0.12597656  0.12597656  0.12597656 ... -0.41601562 -0.41601562\n",
            "  -0.41601562]\n",
            " [ 0.12597656  0.12597656  0.12597656 ... -0.41601562 -0.41601562\n",
            "  -0.41601562]]\n",
            "[1. 1. 1. 1. 0. 0. 1. 1. 1. 1. 1. 1. 1. 1. 0. 1. 1. 1. 1. 1. 1. 1. 1. 1.\n",
            " 1. 1. 1. 1. 1. 1. 1. 0. 1. 1. 1. 1. 1. 1. 1. 1. 1. 1. 1. 1. 1. 1. 1. 1.\n",
            " 1. 1. 1. 1. 1. 1. 1. 1. 1. 1. 1. 0. 0. 0. 1. 1. 1. 1. 1. 1. 1. 1. 1. 1.\n",
            " 1. 1. 0. 1. 1. 1. 1. 1. 1. 1. 1. 0. 0. 1. 1. 1. 1. 0. 0. 0. 0. 0. 0. 0.\n",
            " 1. 1. 1. 1. 1. 1. 1. 1. 1. 1. 1. 1. 1. 1. 1. 0. 1. 1. 1. 1. 0. 1. 1. 1.\n",
            " 1. 0. 1. 1. 1. 1. 0. 1. 1. 1. 1. 1. 1. 1. 1. 0. 0. 0. 0. 0. 1. 1. 1. 1.\n",
            " 1. 1. 1. 1. 1. 1. 1. 1. 1. 1. 1. 1. 0. 1. 1. 1. 1. 0. 0. 0. 1. 1. 1. 1.\n",
            " 0. 1. 1. 1. 1. 1. 1. 1. 1. 0. 1. 1. 1. 1. 0. 0. 0. 0. 1. 1. 1. 1. 1. 1.\n",
            " 1. 1. 1. 1. 1. 1. 1. 1. 1. 1. 0. 0. 1. 1. 1. 1. 0. 0. 0. 0. 0. 1. 1. 1.\n",
            " 1. 1. 1. 1. 1. 0. 0. 0. 0. 0. 1. 1. 1. 1. 0. 0. 0. 0. 0. 0.]\n"
          ],
          "name": "stdout"
        }
      ]
    },
    {
      "cell_type": "code",
      "metadata": {
        "id": "a4swId2vKgCp",
        "colab_type": "code",
        "colab": {
          "base_uri": "https://localhost:8080/",
          "height": 408
        },
        "outputId": "a8104d25-44f3-47a8-ce72-b2db1f6077fe"
      },
      "source": [
        "# xs (the input to the classifier) are the first n-1 columns, the ys are the last one\n",
        "xp = trans_table_p[:,:-1]\n",
        "yp = trans_table_p[:,-1]\n",
        "\n",
        "\n",
        "# normalization of the the inputs so that they are centered at 0 \n",
        "\n",
        "xp = (xp-512)/1024\n",
        "\n",
        "print(xp)\n",
        "print(yp)"
      ],
      "execution_count": null,
      "outputs": [
        {
          "output_type": "stream",
          "text": [
            "[[ 0.25195312  0.25390625  0.25488281 ... -0.27148438 -0.34960938\n",
            "   0.49902344]\n",
            " [ 0.25390625  0.25488281  0.21484375 ... -0.34960938  0.49902344\n",
            "  -0.02050781]\n",
            " [ 0.25488281  0.21484375  0.22949219 ...  0.49902344 -0.02050781\n",
            "   0.49902344]\n",
            " ...\n",
            " [ 0.25        0.25        0.25       ... -0.43652344 -0.15332031\n",
            "  -0.32714844]\n",
            " [ 0.25        0.25        0.25       ... -0.15332031 -0.32714844\n",
            "  -0.32714844]\n",
            " [ 0.25        0.25        0.25       ... -0.32714844 -0.32714844\n",
            "  -0.32714844]]\n",
            "[2. 2. 2. 2. 0. 0. 2. 2. 2. 2. 0. 2. 2. 2. 2. 2. 2. 2. 2. 0. 2. 2. 2. 2.\n",
            " 2. 2. 2. 2. 2. 2. 2. 2. 2. 2. 2. 2. 2. 2. 2. 2. 2. 2. 2. 2. 2. 2. 2. 2.\n",
            " 2. 2. 2. 2. 0. 0. 0. 0. 0. 0. 0. 0. 0. 0. 0. 0. 2. 2. 2. 2. 2. 2. 2. 2.\n",
            " 2. 2. 2. 2. 2. 2. 2. 0. 2. 2. 2. 2. 2. 2. 2. 2. 2. 2. 2. 2. 2. 2. 2. 2.\n",
            " 2. 2. 2. 2. 0. 0. 0. 0. 0. 0. 0. 0. 0. 0. 0. 0. 2. 2. 2. 2. 0. 2. 2. 2.\n",
            " 2. 0. 0. 0. 0. 2. 2. 2. 2. 2. 2. 2. 2. 0. 0. 0. 2. 2. 2. 2. 2. 2. 2. 2.\n",
            " 2. 2. 2. 2. 2. 2. 2. 0. 0. 0. 0. 0. 0. 0. 0. 0. 0. 0. 2. 2. 2. 2. 2. 2.\n",
            " 2. 2. 0. 0. 2. 2. 2. 2. 2. 2. 2. 2. 0. 0. 2. 2. 2. 2. 0. 2. 2. 2. 2. 0.\n",
            " 0. 2. 2. 2. 2. 0. 0. 0. 2. 2. 2. 2. 2. 2. 2. 2. 0. 2. 2. 2. 2. 2. 2. 2.\n",
            " 2. 0. 0. 0. 0. 0. 2. 2. 2. 2. 0. 2. 2. 2. 2. 0. 2. 2. 2. 2.]\n"
          ],
          "name": "stdout"
        }
      ]
    },
    {
      "cell_type": "code",
      "metadata": {
        "id": "q6M93ebjKgkJ",
        "colab_type": "code",
        "colab": {
          "base_uri": "https://localhost:8080/",
          "height": 408
        },
        "outputId": "73ca408d-121d-4a12-ed2b-ff647065f36c"
      },
      "source": [
        "# xs (the input to the classifier) are the first n-1 columns, the ys are the last one\n",
        "xc = trans_table_c[:,:-1]\n",
        "yc = trans_table_c[:,-1]\n",
        "\n",
        "\n",
        "# normalization of the the inputs so that they are centered at 0 \n",
        "\n",
        "xc = (xc-512)/1024\n",
        "\n",
        "print(xc)\n",
        "print(yc)"
      ],
      "execution_count": null,
      "outputs": [
        {
          "output_type": "stream",
          "text": [
            "[[ 0.24902344  0.24902344  0.25097656 ... -0.43945312 -0.45996094\n",
            "  -0.4609375 ]\n",
            " [ 0.24902344  0.25097656  0.25097656 ... -0.45996094 -0.4609375\n",
            "  -0.36230469]\n",
            " [ 0.25097656  0.25097656  0.20117188 ... -0.4609375  -0.36230469\n",
            "  -0.49707031]\n",
            " ...\n",
            " [ 0.24511719  0.24511719  0.24511719 ... -0.23339844 -0.27050781\n",
            "   0.49902344]\n",
            " [ 0.24511719  0.24511719  0.24511719 ... -0.27050781  0.49902344\n",
            "   0.49902344]\n",
            " [ 0.24511719  0.24511719  0.24511719 ...  0.49902344  0.49902344\n",
            "   0.49902344]]\n",
            "[0. 0. 0. 0. 0. 0. 0. 0. 0. 3. 3. 3. 3. 0. 0. 0. 0. 3. 3. 3. 3. 0. 0. 0.\n",
            " 3. 3. 3. 3. 0. 0. 3. 3. 3. 3. 0. 3. 3. 3. 3. 0. 0. 3. 3. 3. 3. 0. 3. 3.\n",
            " 3. 3. 0. 3. 3. 3. 3. 0. 3. 3. 3. 3. 0. 3. 3. 3. 3. 0. 0. 3. 3. 3. 3. 0.\n",
            " 3. 3. 3. 3. 0. 3. 3. 3. 3. 0. 3. 3. 3. 3. 0. 3. 3. 3. 3. 0. 3. 3. 3. 3.\n",
            " 0. 3. 3. 3. 3. 0. 3. 3. 3. 3. 0. 0. 3. 3. 3. 3. 0. 3. 3. 3. 3. 0. 3. 3.\n",
            " 3. 3. 0. 0. 3. 3. 3. 3. 0. 3. 3. 3. 3. 0. 0. 3. 3. 3. 3. 0. 3. 3. 3. 3.\n",
            " 0. 0. 3. 3. 3. 3. 0. 3. 3. 3. 3. 0. 3. 3. 3. 3. 0. 3. 3. 3. 3. 0. 3. 3.\n",
            " 3. 3. 0. 0. 0. 0. 0. 0. 0. 0. 0. 0. 3. 3. 3. 3. 0. 3. 3. 3. 3. 3. 3. 3.\n",
            " 3. 3. 3. 3. 3. 3. 3. 3. 3. 3. 3. 3. 3. 3. 3. 3. 3. 3. 3. 3. 3. 3. 0. 3.\n",
            " 3. 3. 3. 0. 3. 3. 3. 3. 3. 3. 3. 3. 0. 3. 3. 3. 3. 3. 3. 3.]\n"
          ],
          "name": "stdout"
        }
      ]
    },
    {
      "cell_type": "code",
      "metadata": {
        "id": "mhUJjIuJuLiH",
        "colab_type": "code",
        "colab": {}
      },
      "source": [
        "x = np.concatenate((xns, xmf, xp, xc))\n",
        "y = np.concatenate((yns, ymf, yp, yc))\n"
      ],
      "execution_count": null,
      "outputs": []
    },
    {
      "cell_type": "code",
      "metadata": {
        "id": "u-7xeeVJJd2I",
        "colab_type": "code",
        "colab": {}
      },
      "source": [
        "from sklearn.model_selection import train_test_split\n",
        "\n",
        "x_train, x_test, y_train, y_test = train_test_split(x, y, test_size=0.3)"
      ],
      "execution_count": null,
      "outputs": []
    },
    {
      "cell_type": "code",
      "metadata": {
        "id": "Of9SXmEFuS58",
        "colab_type": "code",
        "colab": {}
      },
      "source": [
        "model = tf.keras.models.Sequential([\n",
        "    tf.keras.layers.Dense(150, activation='relu', input_shape=(2*win_size,)),\n",
        "    tf.keras.layers.Dropout(0.3),\n",
        "    tf.keras.layers.Dense(4)\n",
        "])"
      ],
      "execution_count": null,
      "outputs": []
    },
    {
      "cell_type": "code",
      "metadata": {
        "id": "gU6UCkfduSzF",
        "colab_type": "code",
        "colab": {
          "base_uri": "https://localhost:8080/",
          "height": 51
        },
        "outputId": "b1928f23-7fc5-4160-8146-28edc68db2f6"
      },
      "source": [
        "predictions = model(x_train[:1]).numpy()\n",
        "predictions"
      ],
      "execution_count": null,
      "outputs": [
        {
          "output_type": "execute_result",
          "data": {
            "text/plain": [
              "array([[-0.04771198, -0.00631762,  0.12232989, -0.00596632]],\n",
              "      dtype=float32)"
            ]
          },
          "metadata": {
            "tags": []
          },
          "execution_count": 19
        }
      ]
    },
    {
      "cell_type": "code",
      "metadata": {
        "id": "DLdrKSYZufrR",
        "colab_type": "code",
        "colab": {
          "base_uri": "https://localhost:8080/",
          "height": 34
        },
        "outputId": "809b4f09-2a25-461e-a9de-896684994754"
      },
      "source": [
        "tf.nn.softmax(predictions).numpy()"
      ],
      "execution_count": null,
      "outputs": [
        {
          "output_type": "execute_result",
          "data": {
            "text/plain": [
              "array([[0.23417848, 0.24407558, 0.27758452, 0.24416134]], dtype=float32)"
            ]
          },
          "metadata": {
            "tags": []
          },
          "execution_count": 20
        }
      ]
    },
    {
      "cell_type": "code",
      "metadata": {
        "id": "TaHGbd5wufv_",
        "colab_type": "code",
        "colab": {}
      },
      "source": [
        "loss_fn = tf.keras.losses.SparseCategoricalCrossentropy(from_logits=True)"
      ],
      "execution_count": null,
      "outputs": []
    },
    {
      "cell_type": "code",
      "metadata": {
        "id": "fYktUL8_uf0y",
        "colab_type": "code",
        "colab": {
          "base_uri": "https://localhost:8080/",
          "height": 34
        },
        "outputId": "148b0a73-9d56-4884-c0cc-002cc1ec0e80"
      },
      "source": [
        "loss_fn(y_train[:1], predictions).numpy()"
      ],
      "execution_count": null,
      "outputs": [
        {
          "output_type": "execute_result",
          "data": {
            "text/plain": [
              "1.4516717"
            ]
          },
          "metadata": {
            "tags": []
          },
          "execution_count": 22
        }
      ]
    },
    {
      "cell_type": "code",
      "metadata": {
        "id": "LIIUDcVJufzJ",
        "colab_type": "code",
        "colab": {}
      },
      "source": [
        "model.compile(optimizer='adam',\n",
        "              loss= loss_fn,\n",
        "              metrics=['accuracy'])"
      ],
      "execution_count": null,
      "outputs": []
    },
    {
      "cell_type": "code",
      "metadata": {
        "id": "gX62Gktwuft3",
        "colab_type": "code",
        "colab": {
          "base_uri": "https://localhost:8080/",
          "height": 1000
        },
        "outputId": "4a662d95-46dd-4cc5-9093-83953ed526df"
      },
      "source": [
        "model.fit(x_train, y_train, epochs=60)"
      ],
      "execution_count": null,
      "outputs": [
        {
          "output_type": "stream",
          "text": [
            "Epoch 1/60\n",
            "21/21 [==============================] - 0s 1ms/step - loss: 0.6644 - accuracy: 0.7015\n",
            "Epoch 2/60\n",
            "21/21 [==============================] - 0s 1ms/step - loss: 0.6665 - accuracy: 0.7106\n",
            "Epoch 3/60\n",
            "21/21 [==============================] - 0s 1ms/step - loss: 0.6739 - accuracy: 0.6955\n",
            "Epoch 4/60\n",
            "21/21 [==============================] - 0s 2ms/step - loss: 0.6632 - accuracy: 0.7000\n",
            "Epoch 5/60\n",
            "21/21 [==============================] - 0s 1ms/step - loss: 0.6726 - accuracy: 0.6955\n",
            "Epoch 6/60\n",
            "21/21 [==============================] - 0s 2ms/step - loss: 0.6520 - accuracy: 0.7076\n",
            "Epoch 7/60\n",
            "21/21 [==============================] - 0s 1ms/step - loss: 0.6638 - accuracy: 0.7000\n",
            "Epoch 8/60\n",
            "21/21 [==============================] - 0s 1ms/step - loss: 0.6543 - accuracy: 0.6879\n",
            "Epoch 9/60\n",
            "21/21 [==============================] - 0s 1ms/step - loss: 0.6663 - accuracy: 0.6970\n",
            "Epoch 10/60\n",
            "21/21 [==============================] - 0s 1ms/step - loss: 0.6481 - accuracy: 0.7091\n",
            "Epoch 11/60\n",
            "21/21 [==============================] - 0s 1ms/step - loss: 0.6563 - accuracy: 0.6864\n",
            "Epoch 12/60\n",
            "21/21 [==============================] - 0s 2ms/step - loss: 0.6540 - accuracy: 0.6985\n",
            "Epoch 13/60\n",
            "21/21 [==============================] - 0s 2ms/step - loss: 0.6583 - accuracy: 0.7106\n",
            "Epoch 14/60\n",
            "21/21 [==============================] - 0s 1ms/step - loss: 0.6450 - accuracy: 0.7212\n",
            "Epoch 15/60\n",
            "21/21 [==============================] - 0s 1ms/step - loss: 0.6373 - accuracy: 0.7136\n",
            "Epoch 16/60\n",
            "21/21 [==============================] - 0s 1ms/step - loss: 0.6589 - accuracy: 0.7167\n",
            "Epoch 17/60\n",
            "21/21 [==============================] - 0s 1ms/step - loss: 0.6377 - accuracy: 0.6970\n",
            "Epoch 18/60\n",
            "21/21 [==============================] - 0s 1ms/step - loss: 0.6427 - accuracy: 0.7091\n",
            "Epoch 19/60\n",
            "21/21 [==============================] - 0s 1ms/step - loss: 0.6237 - accuracy: 0.7152\n",
            "Epoch 20/60\n",
            "21/21 [==============================] - 0s 1ms/step - loss: 0.6303 - accuracy: 0.7197\n",
            "Epoch 21/60\n",
            "21/21 [==============================] - 0s 1ms/step - loss: 0.6412 - accuracy: 0.7061\n",
            "Epoch 22/60\n",
            "21/21 [==============================] - 0s 1ms/step - loss: 0.6167 - accuracy: 0.7288\n",
            "Epoch 23/60\n",
            "21/21 [==============================] - 0s 2ms/step - loss: 0.6328 - accuracy: 0.7212\n",
            "Epoch 24/60\n",
            "21/21 [==============================] - 0s 2ms/step - loss: 0.6243 - accuracy: 0.7121\n",
            "Epoch 25/60\n",
            "21/21 [==============================] - 0s 1ms/step - loss: 0.6227 - accuracy: 0.7091\n",
            "Epoch 26/60\n",
            "21/21 [==============================] - 0s 1ms/step - loss: 0.6416 - accuracy: 0.6894\n",
            "Epoch 27/60\n",
            "21/21 [==============================] - 0s 1ms/step - loss: 0.6163 - accuracy: 0.7303\n",
            "Epoch 28/60\n",
            "21/21 [==============================] - 0s 2ms/step - loss: 0.6253 - accuracy: 0.7121\n",
            "Epoch 29/60\n",
            "21/21 [==============================] - 0s 1ms/step - loss: 0.6315 - accuracy: 0.7212\n",
            "Epoch 30/60\n",
            "21/21 [==============================] - 0s 2ms/step - loss: 0.6210 - accuracy: 0.7197\n",
            "Epoch 31/60\n",
            "21/21 [==============================] - 0s 2ms/step - loss: 0.6260 - accuracy: 0.7136\n",
            "Epoch 32/60\n",
            "21/21 [==============================] - 0s 1ms/step - loss: 0.6188 - accuracy: 0.7288\n",
            "Epoch 33/60\n",
            "21/21 [==============================] - 0s 2ms/step - loss: 0.6229 - accuracy: 0.7167\n",
            "Epoch 34/60\n",
            "21/21 [==============================] - 0s 1ms/step - loss: 0.6282 - accuracy: 0.7227\n",
            "Epoch 35/60\n",
            "21/21 [==============================] - 0s 1ms/step - loss: 0.6123 - accuracy: 0.7273\n",
            "Epoch 36/60\n",
            "21/21 [==============================] - 0s 1ms/step - loss: 0.6132 - accuracy: 0.7273\n",
            "Epoch 37/60\n",
            "21/21 [==============================] - 0s 1ms/step - loss: 0.6078 - accuracy: 0.7197\n",
            "Epoch 38/60\n",
            "21/21 [==============================] - 0s 1ms/step - loss: 0.6236 - accuracy: 0.7182\n",
            "Epoch 39/60\n",
            "21/21 [==============================] - 0s 1ms/step - loss: 0.6116 - accuracy: 0.7152\n",
            "Epoch 40/60\n",
            "21/21 [==============================] - 0s 1ms/step - loss: 0.6124 - accuracy: 0.7242\n",
            "Epoch 41/60\n",
            "21/21 [==============================] - 0s 1ms/step - loss: 0.6257 - accuracy: 0.7136\n",
            "Epoch 42/60\n",
            "21/21 [==============================] - 0s 1ms/step - loss: 0.6102 - accuracy: 0.7227\n",
            "Epoch 43/60\n",
            "21/21 [==============================] - 0s 1ms/step - loss: 0.6114 - accuracy: 0.7136\n",
            "Epoch 44/60\n",
            "21/21 [==============================] - 0s 1ms/step - loss: 0.6108 - accuracy: 0.7273\n",
            "Epoch 45/60\n",
            "21/21 [==============================] - 0s 1ms/step - loss: 0.6166 - accuracy: 0.7288\n",
            "Epoch 46/60\n",
            "21/21 [==============================] - 0s 1ms/step - loss: 0.6118 - accuracy: 0.7303\n",
            "Epoch 47/60\n",
            "21/21 [==============================] - 0s 1ms/step - loss: 0.6052 - accuracy: 0.7333\n",
            "Epoch 48/60\n",
            "21/21 [==============================] - 0s 1ms/step - loss: 0.5943 - accuracy: 0.7318\n",
            "Epoch 49/60\n",
            "21/21 [==============================] - 0s 1ms/step - loss: 0.6063 - accuracy: 0.7333\n",
            "Epoch 50/60\n",
            "21/21 [==============================] - 0s 1ms/step - loss: 0.5932 - accuracy: 0.7288\n",
            "Epoch 51/60\n",
            "21/21 [==============================] - 0s 1ms/step - loss: 0.6164 - accuracy: 0.7379\n",
            "Epoch 52/60\n",
            "21/21 [==============================] - 0s 1ms/step - loss: 0.6087 - accuracy: 0.7197\n",
            "Epoch 53/60\n",
            "21/21 [==============================] - 0s 2ms/step - loss: 0.6000 - accuracy: 0.7273\n",
            "Epoch 54/60\n",
            "21/21 [==============================] - 0s 1ms/step - loss: 0.5976 - accuracy: 0.7364\n",
            "Epoch 55/60\n",
            "21/21 [==============================] - 0s 1ms/step - loss: 0.5965 - accuracy: 0.7288\n",
            "Epoch 56/60\n",
            "21/21 [==============================] - 0s 2ms/step - loss: 0.5819 - accuracy: 0.7439\n",
            "Epoch 57/60\n",
            "21/21 [==============================] - 0s 1ms/step - loss: 0.5837 - accuracy: 0.7424\n",
            "Epoch 58/60\n",
            "21/21 [==============================] - 0s 1ms/step - loss: 0.5956 - accuracy: 0.7515\n",
            "Epoch 59/60\n",
            "21/21 [==============================] - 0s 1ms/step - loss: 0.5933 - accuracy: 0.7288\n",
            "Epoch 60/60\n",
            "21/21 [==============================] - 0s 1ms/step - loss: 0.5915 - accuracy: 0.7470\n"
          ],
          "name": "stdout"
        },
        {
          "output_type": "execute_result",
          "data": {
            "text/plain": [
              "<tensorflow.python.keras.callbacks.History at 0x7f0f29231ef0>"
            ]
          },
          "metadata": {
            "tags": []
          },
          "execution_count": 26
        }
      ]
    },
    {
      "cell_type": "code",
      "metadata": {
        "id": "yGUvIlK3uSwv",
        "colab_type": "code",
        "colab": {
          "base_uri": "https://localhost:8080/",
          "height": 51
        },
        "outputId": "7d5d58e5-28b9-4c77-b2cf-4374d4525862"
      },
      "source": [
        "model.evaluate(x_test,  y_test, verbose=2)"
      ],
      "execution_count": null,
      "outputs": [
        {
          "output_type": "stream",
          "text": [
            "9/9 - 0s - loss: 0.5748 - accuracy: 0.7641\n"
          ],
          "name": "stdout"
        },
        {
          "output_type": "execute_result",
          "data": {
            "text/plain": [
              "[0.5748055577278137, 0.76408451795578]"
            ]
          },
          "metadata": {
            "tags": []
          },
          "execution_count": 27
        }
      ]
    },
    {
      "cell_type": "code",
      "metadata": {
        "id": "_SXGDflr9D3r",
        "colab_type": "code",
        "colab": {}
      },
      "source": [
        "# https://stackoverflow.com/questions/52753846/error-in-load-a-model-saved-by-callbakcs-modelcheckpoint-in-keras \n",
        "\n",
        "from keras.models import load_model\n",
        "\n",
        "model.save('model.h5') "
      ],
      "execution_count": null,
      "outputs": []
    },
    {
      "cell_type": "code",
      "metadata": {
        "id": "ORsMRRaYvV2k",
        "colab_type": "code",
        "colab": {}
      },
      "source": [
        "#https://www.tensorflow.org/lite/convert/python_api\n",
        "\n",
        "# # Convert the model.\n",
        "# converter = tf.lite.TFLiteConverter.from_keras_model(model)\n",
        "# tflite_model = converter.convert()\n",
        "\n",
        "# # Save the TF Lite model.\n",
        "# with tf.io.gfile.GFile('model.tflite', 'wb') as f:\n",
        "#   f.write(tflite_model)"
      ],
      "execution_count": null,
      "outputs": []
    }
  ]
}